{
  "nbformat": 4,
  "nbformat_minor": 0,
  "metadata": {
    "colab": {
      "name": "Data Science Capstone final week Rizal.ipynb",
      "provenance": [],
      "collapsed_sections": []
    },
    "kernelspec": {
      "name": "python3",
      "display_name": "Python 3"
    },
    "language_info": {
      "name": "python"
    }
  },
  "cells": [
    {
      "cell_type": "markdown",
      "metadata": {
        "id": "25Y7V4NK65FM"
      },
      "source": [
        "# Battle of the Neighborhoods - by Mahmudin Rizal"
      ]
    },
    {
      "cell_type": "markdown",
      "metadata": {
        "id": "HHfSmdCV7FQG"
      },
      "source": [
        "# Introduction"
      ]
    },
    {
      "cell_type": "markdown",
      "metadata": {
        "id": "HOrCFFSC7Ii2"
      },
      "source": [
        "work and study are activities that almost everyone does. In practice, it is often found that humans need a place to study and work other than at home, office, or at school. Usually places like coffee shops are another main choice besides previous places, but lately there are also many people who want to study or work in coworking spaces. In this project, we will examine where is the best place to set up a coworking space, considering that this business is promising. Some conditions may be used, such as one that must be a busy place or close to several crowded places and easy to access. This project is carried out for the area around the city of Bekasi, Indonesia"
      ]
    },
    {
      "cell_type": "markdown",
      "metadata": {
        "id": "dT0bNLek8hVh"
      },
      "source": [
        "# Data"
      ]
    },
    {
      "cell_type": "markdown",
      "metadata": {
        "id": "8iVhcwT98l--"
      },
      "source": [
        "The data used is data about the dibekasi area, including population, latitude, and longitude. All data related to locations will be obtaine by using FourSquare API and Python Libraries."
      ]
    },
    {
      "cell_type": "code",
      "metadata": {
        "colab": {
          "base_uri": "https://localhost:8080/"
        },
        "id": "KJAq56d0by83",
        "outputId": "9e9d6e81-c277-495a-f94c-0cdaf3963578"
      },
      "source": [
        "import numpy as np # library to handle data in a vectorized manner\n",
        "\n",
        "import pandas as pd # library for data analsysis\n",
        "pd.set_option('display.max_columns', None)\n",
        "pd.set_option('display.max_rows', None)\n",
        "\n",
        "import json # library to handle JSON files\n",
        "\n",
        "#!conda install -c conda-forge geopy --yes # uncomment this line if you haven't completed the Foursquare API lab\n",
        "from geopy.geocoders import Nominatim # convert an address into latitude and longitude values\n",
        "\n",
        "import requests # library to handle requests\n",
        "from pandas.io.json import json_normalize # tranform JSON file into a pandas dataframe\n",
        "\n",
        "# Matplotlib and associated plotting modules\n",
        "import matplotlib.cm as cm\n",
        "import matplotlib.colors as colors\n",
        "\n",
        "# import k-means from clustering stage\n",
        "from sklearn.cluster import KMeans\n",
        "\n",
        "#!conda install -c conda-forge folium=0.5.0 --yes # uncomment this line if you haven't completed the Foursquare API lab\n",
        "import folium # map rendering library\n",
        "\n",
        "import requests\n",
        "import lxml.html as lh\n",
        "import urllib.request\n",
        "import numpy as np \n",
        "import pandas as pd\n",
        "from bs4 import BeautifulSoup\n",
        "\n",
        "\n",
        "print('Libraries imported.')"
      ],
      "execution_count": 9,
      "outputs": [
        {
          "output_type": "stream",
          "text": [
            "Libraries imported.\n"
          ],
          "name": "stdout"
        }
      ]
    },
    {
      "cell_type": "code",
      "metadata": {
        "id": "2E3lBDNlbpSF"
      },
      "source": [
        "df=pd.read_csv('bekasi.txt')"
      ],
      "execution_count": 10,
      "outputs": []
    },
    {
      "cell_type": "code",
      "metadata": {
        "colab": {
          "base_uri": "https://localhost:8080/",
          "height": 402
        },
        "id": "vdubk93P-kUW",
        "outputId": "e6937685-6ca4-48b7-b2a9-51467751c8fe"
      },
      "source": [
        "df"
      ],
      "execution_count": 11,
      "outputs": [
        {
          "output_type": "execute_result",
          "data": {
            "text/html": [
              "<div>\n",
              "<style scoped>\n",
              "    .dataframe tbody tr th:only-of-type {\n",
              "        vertical-align: middle;\n",
              "    }\n",
              "\n",
              "    .dataframe tbody tr th {\n",
              "        vertical-align: top;\n",
              "    }\n",
              "\n",
              "    .dataframe thead th {\n",
              "        text-align: right;\n",
              "    }\n",
              "</style>\n",
              "<table border=\"1\" class=\"dataframe\">\n",
              "  <thead>\n",
              "    <tr style=\"text-align: right;\">\n",
              "      <th></th>\n",
              "      <th>District</th>\n",
              "      <th>total population</th>\n",
              "      <th>Latitude</th>\n",
              "      <th>Longitude</th>\n",
              "    </tr>\n",
              "  </thead>\n",
              "  <tbody>\n",
              "    <tr>\n",
              "      <th>0</th>\n",
              "      <td>Pondok Gede</td>\n",
              "      <td>320249</td>\n",
              "      <td>6.2700</td>\n",
              "      <td>106.9300</td>\n",
              "    </tr>\n",
              "    <tr>\n",
              "      <th>1</th>\n",
              "      <td>Jati Sampurna</td>\n",
              "      <td>161207</td>\n",
              "      <td>6.3621</td>\n",
              "      <td>106.9300</td>\n",
              "    </tr>\n",
              "    <tr>\n",
              "      <th>2</th>\n",
              "      <td>Pondok Melati</td>\n",
              "      <td>166432</td>\n",
              "      <td>6.3109</td>\n",
              "      <td>106.9300</td>\n",
              "    </tr>\n",
              "    <tr>\n",
              "      <th>3</th>\n",
              "      <td>Jatiasih</td>\n",
              "      <td>265551</td>\n",
              "      <td>6.3101</td>\n",
              "      <td>106.9536</td>\n",
              "    </tr>\n",
              "    <tr>\n",
              "      <th>4</th>\n",
              "      <td>Bantar Gebang</td>\n",
              "      <td>129511</td>\n",
              "      <td>6.3116</td>\n",
              "      <td>106.9860</td>\n",
              "    </tr>\n",
              "    <tr>\n",
              "      <th>5</th>\n",
              "      <td>Mustikajaya</td>\n",
              "      <td>294944</td>\n",
              "      <td>6.2949</td>\n",
              "      <td>107.0274</td>\n",
              "    </tr>\n",
              "    <tr>\n",
              "      <th>6</th>\n",
              "      <td>Bekasi Timur</td>\n",
              "      <td>260759</td>\n",
              "      <td>6.2363</td>\n",
              "      <td>107.0244</td>\n",
              "    </tr>\n",
              "    <tr>\n",
              "      <th>7</th>\n",
              "      <td>Rawalumbu</td>\n",
              "      <td>278816</td>\n",
              "      <td>6.2779</td>\n",
              "      <td>107.0008</td>\n",
              "    </tr>\n",
              "    <tr>\n",
              "      <th>8</th>\n",
              "      <td>Bekasi Selatan</td>\n",
              "      <td>234235</td>\n",
              "      <td>6.2582</td>\n",
              "      <td>106.9772</td>\n",
              "    </tr>\n",
              "    <tr>\n",
              "      <th>9</th>\n",
              "      <td>Bekasi Barat</td>\n",
              "      <td>306220</td>\n",
              "      <td>6.2382</td>\n",
              "      <td>106.9654</td>\n",
              "    </tr>\n",
              "    <tr>\n",
              "      <th>10</th>\n",
              "      <td>Medansatria</td>\n",
              "      <td>193497</td>\n",
              "      <td>6.1941</td>\n",
              "      <td>106.9860</td>\n",
              "    </tr>\n",
              "    <tr>\n",
              "      <th>11</th>\n",
              "      <td>Bekasi utara</td>\n",
              "      <td>402430</td>\n",
              "      <td>6.2064</td>\n",
              "      <td>107.0008</td>\n",
              "    </tr>\n",
              "  </tbody>\n",
              "</table>\n",
              "</div>"
            ],
            "text/plain": [
              "          District  total population  Latitude  Longitude\n",
              "0      Pondok Gede            320249    6.2700   106.9300\n",
              "1    Jati Sampurna            161207    6.3621   106.9300\n",
              "2    Pondok Melati            166432    6.3109   106.9300\n",
              "3         Jatiasih            265551    6.3101   106.9536\n",
              "4    Bantar Gebang            129511    6.3116   106.9860\n",
              "5      Mustikajaya            294944    6.2949   107.0274\n",
              "6     Bekasi Timur            260759    6.2363   107.0244\n",
              "7        Rawalumbu            278816    6.2779   107.0008\n",
              "8   Bekasi Selatan            234235    6.2582   106.9772\n",
              "9     Bekasi Barat            306220    6.2382   106.9654\n",
              "10     Medansatria            193497    6.1941   106.9860\n",
              "11    Bekasi utara            402430    6.2064   107.0008"
            ]
          },
          "metadata": {
            "tags": []
          },
          "execution_count": 11
        }
      ]
    }
  ]
}